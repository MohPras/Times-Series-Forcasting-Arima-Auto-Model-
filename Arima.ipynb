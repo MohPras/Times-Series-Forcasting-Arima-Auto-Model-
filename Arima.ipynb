{
  "nbformat": 4,
  "nbformat_minor": 0,
  "metadata": {
    "colab": {
      "provenance": []
    },
    "kernelspec": {
      "name": "python3",
      "display_name": "Python 3"
    },
    "language_info": {
      "name": "python"
    }
  },
  "cells": [
    {
      "cell_type": "markdown",
      "source": [
        "Nama : M.Nurdin Prastya.H\n",
        "\n",
        "NIM : 20507334047"
      ],
      "metadata": {
        "id": "Gi205yxGwi86"
      }
    },
    {
      "cell_type": "markdown",
      "source": [
        "# **PRE PROCESING DATA**"
      ],
      "metadata": {
        "id": "3xLc7MTzZlqG"
      }
    },
    {
      "cell_type": "code",
      "execution_count": 1,
      "metadata": {
        "colab": {
          "base_uri": "https://localhost:8080/"
        },
        "id": "g7NZqLc5wesG",
        "outputId": "b539ec43-2a6e-404d-eab7-e941629fd71e"
      },
      "outputs": [
        {
          "output_type": "stream",
          "name": "stdout",
          "text": [
            "Looking in indexes: https://pypi.org/simple, https://us-python.pkg.dev/colab-wheels/public/simple/\n",
            "Collecting pmdarima\n",
            "  Downloading pmdarima-2.0.2-cp37-cp37m-manylinux_2_17_x86_64.manylinux2014_x86_64.manylinux_2_28_x86_64.whl (1.8 MB)\n",
            "\u001b[K     |████████████████████████████████| 1.8 MB 14.8 MB/s \n",
            "\u001b[?25hCollecting statsmodels>=0.13.2\n",
            "  Downloading statsmodels-0.13.5-cp37-cp37m-manylinux_2_17_x86_64.manylinux2014_x86_64.whl (9.9 MB)\n",
            "\u001b[K     |████████████████████████████████| 9.9 MB 46.3 MB/s \n",
            "\u001b[?25hRequirement already satisfied: setuptools!=50.0.0,>=38.6.0 in /usr/local/lib/python3.7/dist-packages (from pmdarima) (57.4.0)\n",
            "Requirement already satisfied: Cython!=0.29.18,!=0.29.31,>=0.29 in /usr/local/lib/python3.7/dist-packages (from pmdarima) (0.29.32)\n",
            "Requirement already satisfied: joblib>=0.11 in /usr/local/lib/python3.7/dist-packages (from pmdarima) (1.2.0)\n",
            "Requirement already satisfied: numpy>=1.21.2 in /usr/local/lib/python3.7/dist-packages (from pmdarima) (1.21.6)\n",
            "Requirement already satisfied: scikit-learn>=0.22 in /usr/local/lib/python3.7/dist-packages (from pmdarima) (1.0.2)\n",
            "Requirement already satisfied: urllib3 in /usr/local/lib/python3.7/dist-packages (from pmdarima) (1.24.3)\n",
            "Requirement already satisfied: scipy>=1.3.2 in /usr/local/lib/python3.7/dist-packages (from pmdarima) (1.7.3)\n",
            "Requirement already satisfied: pandas>=0.19 in /usr/local/lib/python3.7/dist-packages (from pmdarima) (1.3.5)\n",
            "Requirement already satisfied: pytz>=2017.3 in /usr/local/lib/python3.7/dist-packages (from pandas>=0.19->pmdarima) (2022.6)\n",
            "Requirement already satisfied: python-dateutil>=2.7.3 in /usr/local/lib/python3.7/dist-packages (from pandas>=0.19->pmdarima) (2.8.2)\n",
            "Requirement already satisfied: six>=1.5 in /usr/local/lib/python3.7/dist-packages (from python-dateutil>=2.7.3->pandas>=0.19->pmdarima) (1.15.0)\n",
            "Requirement already satisfied: threadpoolctl>=2.0.0 in /usr/local/lib/python3.7/dist-packages (from scikit-learn>=0.22->pmdarima) (3.1.0)\n",
            "Requirement already satisfied: patsy>=0.5.2 in /usr/local/lib/python3.7/dist-packages (from statsmodels>=0.13.2->pmdarima) (0.5.3)\n",
            "Requirement already satisfied: packaging>=21.3 in /usr/local/lib/python3.7/dist-packages (from statsmodels>=0.13.2->pmdarima) (21.3)\n",
            "Requirement already satisfied: pyparsing!=3.0.5,>=2.0.2 in /usr/local/lib/python3.7/dist-packages (from packaging>=21.3->statsmodels>=0.13.2->pmdarima) (3.0.9)\n",
            "Installing collected packages: statsmodels, pmdarima\n",
            "  Attempting uninstall: statsmodels\n",
            "    Found existing installation: statsmodels 0.12.2\n",
            "    Uninstalling statsmodels-0.12.2:\n",
            "      Successfully uninstalled statsmodels-0.12.2\n",
            "Successfully installed pmdarima-2.0.2 statsmodels-0.13.5\n",
            "Drive already mounted at /content/drive; to attempt to forcibly remount, call drive.mount(\"/content/drive\", force_remount=True).\n"
          ]
        }
      ],
      "source": [
        "!pip install pmdarima\n",
        "\n",
        "from pandas import read_csv\n",
        "from sklearn.metrics import mean_squared_error\n",
        "from matplotlib import pyplot\n",
        "\n",
        "# supress warnings\n",
        "import warnings\n",
        "warnings.filterwarnings('ignore')\n",
        "\n",
        "from google.colab import drive\n",
        "drive.mount(\"/content/drive\")"
      ]
    },
    {
      "cell_type": "markdown",
      "source": [
        "# **LOAD DATA**"
      ],
      "metadata": {
        "id": "nZd3g3fEZhSV"
      }
    },
    {
      "cell_type": "code",
      "source": [
        "# load data\n",
        "df = read_csv('/content/drive/MyDrive/Arima Kecerdasan buatan/socfix.txt',header=0, index_col=0, parse_dates= True )\n",
        "series = df['OCV']\n",
        "df.head()"
      ],
      "metadata": {
        "colab": {
          "base_uri": "https://localhost:8080/",
          "height": 238
        },
        "id": "45cDo3aJy6da",
        "outputId": "c99f4d1f-4163-4381-982e-8b17dbdfcd90"
      },
      "execution_count": 27,
      "outputs": [
        {
          "output_type": "execute_result",
          "data": {
            "text/plain": [
              "                 OCV\n",
              "SoC                 \n",
              "100.000000  4.217655\n",
              "99.998955   4.217641\n",
              "99.997940   4.217627\n",
              "99.996880   4.217613\n",
              "99.995880   4.217598"
            ],
            "text/html": [
              "\n",
              "  <div id=\"df-4cca0acd-31df-48cd-88b5-e8575d2d5c29\">\n",
              "    <div class=\"colab-df-container\">\n",
              "      <div>\n",
              "<style scoped>\n",
              "    .dataframe tbody tr th:only-of-type {\n",
              "        vertical-align: middle;\n",
              "    }\n",
              "\n",
              "    .dataframe tbody tr th {\n",
              "        vertical-align: top;\n",
              "    }\n",
              "\n",
              "    .dataframe thead th {\n",
              "        text-align: right;\n",
              "    }\n",
              "</style>\n",
              "<table border=\"1\" class=\"dataframe\">\n",
              "  <thead>\n",
              "    <tr style=\"text-align: right;\">\n",
              "      <th></th>\n",
              "      <th>OCV</th>\n",
              "    </tr>\n",
              "    <tr>\n",
              "      <th>SoC</th>\n",
              "      <th></th>\n",
              "    </tr>\n",
              "  </thead>\n",
              "  <tbody>\n",
              "    <tr>\n",
              "      <th>100.000000</th>\n",
              "      <td>4.217655</td>\n",
              "    </tr>\n",
              "    <tr>\n",
              "      <th>99.998955</th>\n",
              "      <td>4.217641</td>\n",
              "    </tr>\n",
              "    <tr>\n",
              "      <th>99.997940</th>\n",
              "      <td>4.217627</td>\n",
              "    </tr>\n",
              "    <tr>\n",
              "      <th>99.996880</th>\n",
              "      <td>4.217613</td>\n",
              "    </tr>\n",
              "    <tr>\n",
              "      <th>99.995880</th>\n",
              "      <td>4.217598</td>\n",
              "    </tr>\n",
              "  </tbody>\n",
              "</table>\n",
              "</div>\n",
              "      <button class=\"colab-df-convert\" onclick=\"convertToInteractive('df-4cca0acd-31df-48cd-88b5-e8575d2d5c29')\"\n",
              "              title=\"Convert this dataframe to an interactive table.\"\n",
              "              style=\"display:none;\">\n",
              "        \n",
              "  <svg xmlns=\"http://www.w3.org/2000/svg\" height=\"24px\"viewBox=\"0 0 24 24\"\n",
              "       width=\"24px\">\n",
              "    <path d=\"M0 0h24v24H0V0z\" fill=\"none\"/>\n",
              "    <path d=\"M18.56 5.44l.94 2.06.94-2.06 2.06-.94-2.06-.94-.94-2.06-.94 2.06-2.06.94zm-11 1L8.5 8.5l.94-2.06 2.06-.94-2.06-.94L8.5 2.5l-.94 2.06-2.06.94zm10 10l.94 2.06.94-2.06 2.06-.94-2.06-.94-.94-2.06-.94 2.06-2.06.94z\"/><path d=\"M17.41 7.96l-1.37-1.37c-.4-.4-.92-.59-1.43-.59-.52 0-1.04.2-1.43.59L10.3 9.45l-7.72 7.72c-.78.78-.78 2.05 0 2.83L4 21.41c.39.39.9.59 1.41.59.51 0 1.02-.2 1.41-.59l7.78-7.78 2.81-2.81c.8-.78.8-2.07 0-2.86zM5.41 20L4 18.59l7.72-7.72 1.47 1.35L5.41 20z\"/>\n",
              "  </svg>\n",
              "      </button>\n",
              "      \n",
              "  <style>\n",
              "    .colab-df-container {\n",
              "      display:flex;\n",
              "      flex-wrap:wrap;\n",
              "      gap: 12px;\n",
              "    }\n",
              "\n",
              "    .colab-df-convert {\n",
              "      background-color: #E8F0FE;\n",
              "      border: none;\n",
              "      border-radius: 50%;\n",
              "      cursor: pointer;\n",
              "      display: none;\n",
              "      fill: #1967D2;\n",
              "      height: 32px;\n",
              "      padding: 0 0 0 0;\n",
              "      width: 32px;\n",
              "    }\n",
              "\n",
              "    .colab-df-convert:hover {\n",
              "      background-color: #E2EBFA;\n",
              "      box-shadow: 0px 1px 2px rgba(60, 64, 67, 0.3), 0px 1px 3px 1px rgba(60, 64, 67, 0.15);\n",
              "      fill: #174EA6;\n",
              "    }\n",
              "\n",
              "    [theme=dark] .colab-df-convert {\n",
              "      background-color: #3B4455;\n",
              "      fill: #D2E3FC;\n",
              "    }\n",
              "\n",
              "    [theme=dark] .colab-df-convert:hover {\n",
              "      background-color: #434B5C;\n",
              "      box-shadow: 0px 1px 3px 1px rgba(0, 0, 0, 0.15);\n",
              "      filter: drop-shadow(0px 1px 2px rgba(0, 0, 0, 0.3));\n",
              "      fill: #FFFFFF;\n",
              "    }\n",
              "  </style>\n",
              "\n",
              "      <script>\n",
              "        const buttonEl =\n",
              "          document.querySelector('#df-4cca0acd-31df-48cd-88b5-e8575d2d5c29 button.colab-df-convert');\n",
              "        buttonEl.style.display =\n",
              "          google.colab.kernel.accessAllowed ? 'block' : 'none';\n",
              "\n",
              "        async function convertToInteractive(key) {\n",
              "          const element = document.querySelector('#df-4cca0acd-31df-48cd-88b5-e8575d2d5c29');\n",
              "          const dataTable =\n",
              "            await google.colab.kernel.invokeFunction('convertToInteractive',\n",
              "                                                     [key], {});\n",
              "          if (!dataTable) return;\n",
              "\n",
              "          const docLinkHtml = 'Like what you see? Visit the ' +\n",
              "            '<a target=\"_blank\" href=https://colab.research.google.com/notebooks/data_table.ipynb>data table notebook</a>'\n",
              "            + ' to learn more about interactive tables.';\n",
              "          element.innerHTML = '';\n",
              "          dataTable['output_type'] = 'display_data';\n",
              "          await google.colab.output.renderOutput(dataTable, element);\n",
              "          const docLink = document.createElement('div');\n",
              "          docLink.innerHTML = docLinkHtml;\n",
              "          element.appendChild(docLink);\n",
              "        }\n",
              "      </script>\n",
              "    </div>\n",
              "  </div>\n",
              "  "
            ]
          },
          "metadata": {},
          "execution_count": 27
        }
      ]
    },
    {
      "cell_type": "code",
      "source": [
        "df.info()"
      ],
      "metadata": {
        "colab": {
          "base_uri": "https://localhost:8080/"
        },
        "id": "MnI5gk_fzkXX",
        "outputId": "e2dc588f-881e-4104-cfa9-8f2cc5786012"
      },
      "execution_count": 28,
      "outputs": [
        {
          "output_type": "stream",
          "name": "stdout",
          "text": [
            "<class 'pandas.core.frame.DataFrame'>\n",
            "Float64Index: 43470 entries, 100.0 to 0.000221252441406\n",
            "Data columns (total 1 columns):\n",
            " #   Column  Non-Null Count  Dtype  \n",
            "---  ------  --------------  -----  \n",
            " 0   OCV     43470 non-null  float64\n",
            "dtypes: float64(1)\n",
            "memory usage: 679.2 KB\n"
          ]
        }
      ]
    },
    {
      "cell_type": "code",
      "source": [
        "# ploting data keseluruhan\n",
        "series.plot()"
      ],
      "metadata": {
        "colab": {
          "base_uri": "https://localhost:8080/",
          "height": 296
        },
        "id": "ftbTv83RznE9",
        "outputId": "e7cd7d65-8859-4108-8fd2-109cc3b85c37"
      },
      "execution_count": 29,
      "outputs": [
        {
          "output_type": "execute_result",
          "data": {
            "text/plain": [
              "<matplotlib.axes._subplots.AxesSubplot at 0x7f2dc2655810>"
            ]
          },
          "metadata": {},
          "execution_count": 29
        },
        {
          "output_type": "display_data",
          "data": {
            "text/plain": [
              "<Figure size 432x288 with 1 Axes>"
            ],
            "image/png": "[encoded data removed]"
          },
          "metadata": {
            "needs_background": "light"
          }
        }
      ]
    },
    {
      "cell_type": "markdown",
      "source": [
        "**PENJELASAN**\n",
        "\n",
        "Dari hasil ploting diatas diketahui bahwa karakteristik data adalah *trend* yaitu pergerakan data yang stabil arahnya naik terus."
      ],
      "metadata": {
        "id": "6LgAzZ9TYzCF"
      }
    },
    {
      "cell_type": "markdown",
      "source": [
        "# **SPLIT DATA SET**\n",
        "\n",
        "Disini saya membagi data menjadi dua yaitu untuk training dan testing, train = 80% dan test = 20%. "
      ],
      "metadata": {
        "id": "7gn9sgHUZasz"
      }
    },
    {
      "cell_type": "code",
      "source": [
        "# split data\n",
        "train =  df.iloc[:34776]\n",
        "test = df.iloc[34776:]\n",
        "n = len(series)\n",
        "n_train = len(train)\n",
        "n_test = len(test)\n",
        "\n",
        "# plot untuk mengilustrasikan perbedaan train dan test set\n",
        "fig, ax = pyplot.subplots() #OO Style\n",
        "train.plot(ax=ax)\n",
        "train\n",
        "test.plot(ax=ax)\n"
      ],
      "metadata": {
        "colab": {
          "base_uri": "https://localhost:8080/",
          "height": 296
        },
        "id": "LrtXIcmtYg2J",
        "outputId": "2f084ea3-56bd-4433-9fab-dcb3da796c35"
      },
      "execution_count": 43,
      "outputs": [
        {
          "output_type": "execute_result",
          "data": {
            "text/plain": [
              "<matplotlib.axes._subplots.AxesSubplot at 0x7f2db85df790>"
            ]
          },
          "metadata": {},
          "execution_count": 43
        },
        {
          "output_type": "display_data",
          "data": {
            "text/plain": [
              "<Figure size 432x288 with 1 Axes>"
            ],
            "image/png": "[encoded data removed]"
          },
          "metadata": {
            "needs_background": "light"
          }
        }
      ]
    },
    {
      "cell_type": "code",
      "source": [
        "train.tail()"
      ],
      "metadata": {
        "colab": {
          "base_uri": "https://localhost:8080/",
          "height": 216
        },
        "id": "hLQXVzwLdxAV",
        "outputId": "7696afd7-0f35-40e7-a428-1ed9bdf1e4e0"
      },
      "execution_count": 44,
      "outputs": [
        {
          "output_type": "execute_result",
          "data": {
            "text/plain": [
              "                OCV\n",
              "SoC                \n",
              "14.484123  3.726515\n",
              "14.480347  3.726500\n",
              "14.476555  3.726486\n",
              "14.472748  3.726472\n",
              "14.469002  3.726458"
            ],
            "text/html": [
              "\n",
              "  <div id=\"df-f76443f7-cd46-4839-8e79-10b4ecfc218f\">\n",
              "    <div class=\"colab-df-container\">\n",
              "      <div>\n",
              "<style scoped>\n",
              "    .dataframe tbody tr th:only-of-type {\n",
              "        vertical-align: middle;\n",
              "    }\n",
              "\n",
              "    .dataframe tbody tr th {\n",
              "        vertical-align: top;\n",
              "    }\n",
              "\n",
              "    .dataframe thead th {\n",
              "        text-align: right;\n",
              "    }\n",
              "</style>\n",
              "<table border=\"1\" class=\"dataframe\">\n",
              "  <thead>\n",
              "    <tr style=\"text-align: right;\">\n",
              "      <th></th>\n",
              "      <th>OCV</th>\n",
              "    </tr>\n",
              "    <tr>\n",
              "      <th>SoC</th>\n",
              "      <th></th>\n",
              "    </tr>\n",
              "  </thead>\n",
              "  <tbody>\n",
              "    <tr>\n",
              "      <th>14.484123</th>\n",
              "      <td>3.726515</td>\n",
              "    </tr>\n",
              "    <tr>\n",
              "      <th>14.480347</th>\n",
              "      <td>3.726500</td>\n",
              "    </tr>\n",
              "    <tr>\n",
              "      <th>14.476555</th>\n",
              "      <td>3.726486</td>\n",
              "    </tr>\n",
              "    <tr>\n",
              "      <th>14.472748</th>\n",
              "      <td>3.726472</td>\n",
              "    </tr>\n",
              "    <tr>\n",
              "      <th>14.469002</th>\n",
              "      <td>3.726458</td>\n",
              "    </tr>\n",
              "  </tbody>\n",
              "</table>\n",
              "</div>\n",
              "      <button class=\"colab-df-convert\" onclick=\"convertToInteractive('df-f76443f7-cd46-4839-8e79-10b4ecfc218f')\"\n",
              "              title=\"Convert this dataframe to an interactive table.\"\n",
              "              style=\"display:none;\">\n",
              "        \n",
              "  <svg xmlns=\"http://www.w3.org/2000/svg\" height=\"24px\"viewBox=\"0 0 24 24\"\n",
              "       width=\"24px\">\n",
              "    <path d=\"M0 0h24v24H0V0z\" fill=\"none\"/>\n",
              "    <path d=\"M18.56 5.44l.94 2.06.94-2.06 2.06-.94-2.06-.94-.94-2.06-.94 2.06-2.06.94zm-11 1L8.5 8.5l.94-2.06 2.06-.94-2.06-.94L8.5 2.5l-.94 2.06-2.06.94zm10 10l.94 2.06.94-2.06 2.06-.94-2.06-.94-.94-2.06-.94 2.06-2.06.94z\"/><path d=\"M17.41 7.96l-1.37-1.37c-.4-.4-.92-.59-1.43-.59-.52 0-1.04.2-1.43.59L10.3 9.45l-7.72 7.72c-.78.78-.78 2.05 0 2.83L4 21.41c.39.39.9.59 1.41.59.51 0 1.02-.2 1.41-.59l7.78-7.78 2.81-2.81c.8-.78.8-2.07 0-2.86zM5.41 20L4 18.59l7.72-7.72 1.47 1.35L5.41 20z\"/>\n",
              "  </svg>\n",
              "      </button>\n",
              "      \n",
              "  <style>\n",
              "    .colab-df-container {\n",
              "      display:flex;\n",
              "      flex-wrap:wrap;\n",
              "      gap: 12px;\n",
              "    }\n",
              "\n",
              "    .colab-df-convert {\n",
              "      background-color: #E8F0FE;\n",
              "      border: none;\n",
              "      border-radius: 50%;\n",
              "      cursor: pointer;\n",
              "      display: none;\n",
              "      fill: #1967D2;\n",
              "      height: 32px;\n",
              "      padding: 0 0 0 0;\n",
              "      width: 32px;\n",
              "    }\n",
              "\n",
              "    .colab-df-convert:hover {\n",
              "      background-color: #E2EBFA;\n",
              "      box-shadow: 0px 1px 2px rgba(60, 64, 67, 0.3), 0px 1px 3px 1px rgba(60, 64, 67, 0.15);\n",
              "      fill: #174EA6;\n",
              "    }\n",
              "\n",
              "    [theme=dark] .colab-df-convert {\n",
              "      background-color: #3B4455;\n",
              "      fill: #D2E3FC;\n",
              "    }\n",
              "\n",
              "    [theme=dark] .colab-df-convert:hover {\n",
              "      background-color: #434B5C;\n",
              "      box-shadow: 0px 1px 3px 1px rgba(0, 0, 0, 0.15);\n",
              "      filter: drop-shadow(0px 1px 2px rgba(0, 0, 0, 0.3));\n",
              "      fill: #FFFFFF;\n",
              "    }\n",
              "  </style>\n",
              "\n",
              "      <script>\n",
              "        const buttonEl =\n",
              "          document.querySelector('#df-f76443f7-cd46-4839-8e79-10b4ecfc218f button.colab-df-convert');\n",
              "        buttonEl.style.display =\n",
              "          google.colab.kernel.accessAllowed ? 'block' : 'none';\n",
              "\n",
              "        async function convertToInteractive(key) {\n",
              "          const element = document.querySelector('#df-f76443f7-cd46-4839-8e79-10b4ecfc218f');\n",
              "          const dataTable =\n",
              "            await google.colab.kernel.invokeFunction('convertToInteractive',\n",
              "                                                     [key], {});\n",
              "          if (!dataTable) return;\n",
              "\n",
              "          const docLinkHtml = 'Like what you see? Visit the ' +\n",
              "            '<a target=\"_blank\" href=https://colab.research.google.com/notebooks/data_table.ipynb>data table notebook</a>'\n",
              "            + ' to learn more about interactive tables.';\n",
              "          element.innerHTML = '';\n",
              "          dataTable['output_type'] = 'display_data';\n",
              "          await google.colab.output.renderOutput(dataTable, element);\n",
              "          const docLink = document.createElement('div');\n",
              "          docLink.innerHTML = docLinkHtml;\n",
              "          element.appendChild(docLink);\n",
              "        }\n",
              "      </script>\n",
              "    </div>\n",
              "  </div>\n",
              "  "
            ]
          },
          "metadata": {},
          "execution_count": 44
        }
      ]
    },
    {
      "cell_type": "code",
      "source": [
        "test.head()"
      ],
      "metadata": {
        "colab": {
          "base_uri": "https://localhost:8080/",
          "height": 216
        },
        "id": "FAsBT_s8d9GE",
        "outputId": "077fa8bf-475f-4bc3-dbdb-68a91f81a828"
      },
      "execution_count": 45,
      "outputs": [
        {
          "output_type": "execute_result",
          "data": {
            "text/plain": [
              "                OCV\n",
              "SoC                \n",
              "14.465157  3.726444\n",
              "14.461395  3.726430\n",
              "14.457634  3.726416\n",
              "14.453857  3.726402\n",
              "14.450050  3.726387"
            ],
            "text/html": [
              "\n",
              "  <div id=\"df-8afebf37-0146-4223-b9d3-6cef4263072e\">\n",
              "    <div class=\"colab-df-container\">\n",
              "      <div>\n",
              "<style scoped>\n",
              "    .dataframe tbody tr th:only-of-type {\n",
              "        vertical-align: middle;\n",
              "    }\n",
              "\n",
              "    .dataframe tbody tr th {\n",
              "        vertical-align: top;\n",
              "    }\n",
              "\n",
              "    .dataframe thead th {\n",
              "        text-align: right;\n",
              "    }\n",
              "</style>\n",
              "<table border=\"1\" class=\"dataframe\">\n",
              "  <thead>\n",
              "    <tr style=\"text-align: right;\">\n",
              "      <th></th>\n",
              "      <th>OCV</th>\n",
              "    </tr>\n",
              "    <tr>\n",
              "      <th>SoC</th>\n",
              "      <th></th>\n",
              "    </tr>\n",
              "  </thead>\n",
              "  <tbody>\n",
              "    <tr>\n",
              "      <th>14.465157</th>\n",
              "      <td>3.726444</td>\n",
              "    </tr>\n",
              "    <tr>\n",
              "      <th>14.461395</th>\n",
              "      <td>3.726430</td>\n",
              "    </tr>\n",
              "    <tr>\n",
              "      <th>14.457634</th>\n",
              "      <td>3.726416</td>\n",
              "    </tr>\n",
              "    <tr>\n",
              "      <th>14.453857</th>\n",
              "      <td>3.726402</td>\n",
              "    </tr>\n",
              "    <tr>\n",
              "      <th>14.450050</th>\n",
              "      <td>3.726387</td>\n",
              "    </tr>\n",
              "  </tbody>\n",
              "</table>\n",
              "</div>\n",
              "      <button class=\"colab-df-convert\" onclick=\"convertToInteractive('df-8afebf37-0146-4223-b9d3-6cef4263072e')\"\n",
              "              title=\"Convert this dataframe to an interactive table.\"\n",
              "              style=\"display:none;\">\n",
              "        \n",
              "  <svg xmlns=\"http://www.w3.org/2000/svg\" height=\"24px\"viewBox=\"0 0 24 24\"\n",
              "       width=\"24px\">\n",
              "    <path d=\"M0 0h24v24H0V0z\" fill=\"none\"/>\n",
              "    <path d=\"M18.56 5.44l.94 2.06.94-2.06 2.06-.94-2.06-.94-.94-2.06-.94 2.06-2.06.94zm-11 1L8.5 8.5l.94-2.06 2.06-.94-2.06-.94L8.5 2.5l-.94 2.06-2.06.94zm10 10l.94 2.06.94-2.06 2.06-.94-2.06-.94-.94-2.06-.94 2.06-2.06.94z\"/><path d=\"M17.41 7.96l-1.37-1.37c-.4-.4-.92-.59-1.43-.59-.52 0-1.04.2-1.43.59L10.3 9.45l-7.72 7.72c-.78.78-.78 2.05 0 2.83L4 21.41c.39.39.9.59 1.41.59.51 0 1.02-.2 1.41-.59l7.78-7.78 2.81-2.81c.8-.78.8-2.07 0-2.86zM5.41 20L4 18.59l7.72-7.72 1.47 1.35L5.41 20z\"/>\n",
              "  </svg>\n",
              "      </button>\n",
              "      \n",
              "  <style>\n",
              "    .colab-df-container {\n",
              "      display:flex;\n",
              "      flex-wrap:wrap;\n",
              "      gap: 12px;\n",
              "    }\n",
              "\n",
              "    .colab-df-convert {\n",
              "      background-color: #E8F0FE;\n",
              "      border: none;\n",
              "      border-radius: 50%;\n",
              "      cursor: pointer;\n",
              "      display: none;\n",
              "      fill: #1967D2;\n",
              "      height: 32px;\n",
              "      padding: 0 0 0 0;\n",
              "      width: 32px;\n",
              "    }\n",
              "\n",
              "    .colab-df-convert:hover {\n",
              "      background-color: #E2EBFA;\n",
              "      box-shadow: 0px 1px 2px rgba(60, 64, 67, 0.3), 0px 1px 3px 1px rgba(60, 64, 67, 0.15);\n",
              "      fill: #174EA6;\n",
              "    }\n",
              "\n",
              "    [theme=dark] .colab-df-convert {\n",
              "      background-color: #3B4455;\n",
              "      fill: #D2E3FC;\n",
              "    }\n",
              "\n",
              "    [theme=dark] .colab-df-convert:hover {\n",
              "      background-color: #434B5C;\n",
              "      box-shadow: 0px 1px 3px 1px rgba(0, 0, 0, 0.15);\n",
              "      filter: drop-shadow(0px 1px 2px rgba(0, 0, 0, 0.3));\n",
              "      fill: #FFFFFF;\n",
              "    }\n",
              "  </style>\n",
              "\n",
              "      <script>\n",
              "        const buttonEl =\n",
              "          document.querySelector('#df-8afebf37-0146-4223-b9d3-6cef4263072e button.colab-df-convert');\n",
              "        buttonEl.style.display =\n",
              "          google.colab.kernel.accessAllowed ? 'block' : 'none';\n",
              "\n",
              "        async function convertToInteractive(key) {\n",
              "          const element = document.querySelector('#df-8afebf37-0146-4223-b9d3-6cef4263072e');\n",
              "          const dataTable =\n",
              "            await google.colab.kernel.invokeFunction('convertToInteractive',\n",
              "                                                     [key], {});\n",
              "          if (!dataTable) return;\n",
              "\n",
              "          const docLinkHtml = 'Like what you see? Visit the ' +\n",
              "            '<a target=\"_blank\" href=https://colab.research.google.com/notebooks/data_table.ipynb>data table notebook</a>'\n",
              "            + ' to learn more about interactive tables.';\n",
              "          element.innerHTML = '';\n",
              "          dataTable['output_type'] = 'display_data';\n",
              "          await google.colab.output.renderOutput(dataTable, element);\n",
              "          const docLink = document.createElement('div');\n",
              "          docLink.innerHTML = docLinkHtml;\n",
              "          element.appendChild(docLink);\n",
              "        }\n",
              "      </script>\n",
              "    </div>\n",
              "  </div>\n",
              "  "
            ]
          },
          "metadata": {},
          "execution_count": 45
        }
      ]
    },
    {
      "cell_type": "markdown",
      "source": [
        "# CREATE MODEL FORCASTING WITH **ARIMA**"
      ],
      "metadata": {
        "id": "pfA20iQRkmxr"
      }
    },
    {
      "cell_type": "code",
      "source": [
        "import pmdarima as pm\n",
        "\n",
        "# create automodel arima\n",
        "# seasonal tidak ada pola musiman pada grafik\n",
        "def arimamodel(timeseries):\n",
        "    automodel = pm.auto_arima(timeseries,\n",
        "                              start_p=2,\n",
        "                              start_q=0,\n",
        "                              train = \"adf\",\n",
        "                              seasonal= False,\n",
        "                              trace= True,\n",
        "                              stepwise=False)\n",
        "    return automodel"
      ],
      "metadata": {
        "id": "Z9bo1XlxkmYw"
      },
      "execution_count": 56,
      "outputs": []
    },
    {
      "cell_type": "code",
      "source": [
        "automodel = arimamodel(train)\n",
        "print(automodel.summary())"
      ],
      "metadata": {
        "colab": {
          "base_uri": "https://localhost:8080/"
        },
        "id": "OrfY4nZdnxMe",
        "outputId": "0be334b9-f56a-4bd6-ed29-a1a8f6b4e99a"
      },
      "execution_count": 57,
      "outputs": [
        {
          "output_type": "stream",
          "name": "stdout",
          "text": [
            " ARIMA(0,1,0)(0,0,0)[0] intercept   : AIC=-766544.364, Time=14.64 sec\n",
            " ARIMA(0,1,1)(0,0,0)[0] intercept   : AIC=-768298.009, Time=27.11 sec\n",
            " ARIMA(0,1,2)(0,0,0)[0] intercept   : AIC=-769046.190, Time=76.25 sec\n",
            " ARIMA(0,1,3)(0,0,0)[0] intercept   : AIC=-764734.539, Time=44.41 sec\n",
            " ARIMA(0,1,4)(0,0,0)[0] intercept   : AIC=-766903.757, Time=57.14 sec\n",
            " ARIMA(0,1,5)(0,0,0)[0] intercept   : AIC=-761845.360, Time=77.95 sec\n",
            " ARIMA(1,1,0)(0,0,0)[0] intercept   : AIC=-766542.366, Time=20.36 sec\n",
            " ARIMA(1,1,1)(0,0,0)[0] intercept   : AIC=-767205.177, Time=30.60 sec\n",
            " ARIMA(1,1,2)(0,0,0)[0] intercept   : AIC=-767303.066, Time=38.49 sec\n",
            " ARIMA(1,1,3)(0,0,0)[0] intercept   : AIC=-763855.190, Time=53.45 sec\n",
            " ARIMA(1,1,4)(0,0,0)[0] intercept   : AIC=-765825.833, Time=65.99 sec\n",
            " ARIMA(2,1,0)(0,0,0)[0] intercept   : AIC=-766540.859, Time=29.29 sec\n",
            " ARIMA(2,1,1)(0,0,0)[0] intercept   : AIC=-767379.983, Time=41.55 sec\n",
            " ARIMA(2,1,2)(0,0,0)[0] intercept   : AIC=-766776.055, Time=47.11 sec\n",
            " ARIMA(2,1,3)(0,0,0)[0] intercept   : AIC=-763972.971, Time=60.34 sec\n",
            " ARIMA(3,1,0)(0,0,0)[0] intercept   : AIC=-766538.751, Time=37.05 sec\n",
            " ARIMA(3,1,1)(0,0,0)[0] intercept   : AIC=-767582.735, Time=46.69 sec\n",
            " ARIMA(3,1,2)(0,0,0)[0] intercept   : AIC=-767169.450, Time=58.66 sec\n",
            " ARIMA(4,1,0)(0,0,0)[0] intercept   : AIC=-766536.971, Time=46.58 sec\n",
            " ARIMA(4,1,1)(0,0,0)[0] intercept   : AIC=-767574.054, Time=59.36 sec\n",
            " ARIMA(5,1,0)(0,0,0)[0] intercept   : AIC=-766535.643, Time=58.90 sec\n",
            "\n",
            "Best model:  ARIMA(0,1,2)(0,0,0)[0] intercept\n",
            "Total fit time: 991.997 seconds\n",
            "                               SARIMAX Results                                \n",
            "==============================================================================\n",
            "Dep. Variable:                      y   No. Observations:                34776\n",
            "Model:               SARIMAX(0, 1, 2)   Log Likelihood              384527.095\n",
            "Date:                Thu, 01 Dec 2022   AIC                        -769046.190\n",
            "Time:                        08:00:09   BIC                        -769012.363\n",
            "Sample:                             0   HQIC                       -769035.412\n",
            "                              - 34776                                         \n",
            "Covariance Type:                  opg                                         \n",
            "==============================================================================\n",
            "                 coef    std err          z      P>|z|      [0.025      0.975]\n",
            "------------------------------------------------------------------------------\n",
            "intercept  -1.782e-05   2.03e-06     -8.785      0.000   -2.18e-05   -1.38e-05\n",
            "ma.L1          0.0202   3.41e-12   5.92e+09      0.000       0.020       0.020\n",
            "ma.L2          0.0022   2.32e-12    9.6e+08      0.000       0.002       0.002\n",
            "sigma2      2.163e-11   6.38e-10      0.034      0.973   -1.23e-09    1.27e-09\n",
            "===================================================================================\n",
            "Ljung-Box (L1) (Q):                9070.37   Jarque-Bera (JB):      437509451582.76\n",
            "Prob(Q):                              0.00   Prob(JB):                         0.00\n",
            "Heteroskedasticity (H):               1.00   Skew:                             0.84\n",
            "Prob(H) (two-sided):                  0.99   Kurtosis:                     17379.64\n",
            "===================================================================================\n",
            "\n",
            "Warnings:\n",
            "[1] Covariance matrix calculated using the outer product of gradients (complex-step).\n",
            "[2] Covariance matrix is singular or near-singular, with condition number 1.01e+28. Standard errors may be unstable.\n"
          ]
        }
      ]
    },
    {
      "cell_type": "markdown",
      "source": [
        "**Best model:  ARIMA(0,1,2)**"
      ],
      "metadata": {
        "id": "32tVkAHctw6p"
      }
    },
    {
      "cell_type": "markdown",
      "source": [
        "# **DO FORECAST**"
      ],
      "metadata": {
        "id": "iQ_cnWTWt8sT"
      }
    },
    {
      "cell_type": "code",
      "source": [
        "# mengetahui jumlah data test\n",
        "test.shape"
      ],
      "metadata": {
        "colab": {
          "base_uri": "https://localhost:8080/"
        },
        "id": "2WfqeZiluiNq",
        "outputId": "8b4c0437-8a3c-463a-ab80-08d4e15553bc"
      },
      "execution_count": 59,
      "outputs": [
        {
          "output_type": "execute_result",
          "data": {
            "text/plain": [
              "(8694, 1)"
            ]
          },
          "metadata": {},
          "execution_count": 59
        }
      ]
    },
    {
      "cell_type": "code",
      "source": [
        "predictions_arima = automodel.predict(n_periods=test.shape[0])\n",
        "predictions_arima"
      ],
      "metadata": {
        "colab": {
          "base_uri": "https://localhost:8080/"
        },
        "id": "0HAQZSdWtY3E",
        "outputId": "927aa8f8-bc5e-4b40-b2af-49a9a5f4071e"
      },
      "execution_count": 60,
      "outputs": [
        {
          "output_type": "stream",
          "name": "stderr",
          "text": [
            "/usr/local/lib/python3.7/dist-packages/statsmodels/tsa/base/tsa_model.py:843: ValueWarning: No supported index is available. Prediction results will be given with an integer index beginning at `start`.\n",
            "  data=self.data,\n"
          ]
        },
        {
          "output_type": "execute_result",
          "data": {
            "text/plain": [
              "34776    3.726440\n",
              "34777    3.726423\n",
              "34778    3.726405\n",
              "34779    3.726387\n",
              "34780    3.726369\n",
              "           ...   \n",
              "43465    3.571619\n",
              "43466    3.571601\n",
              "43467    3.571583\n",
              "43468    3.571566\n",
              "43469    3.571548\n",
              "Length: 8694, dtype: float64"
            ]
          },
          "metadata": {},
          "execution_count": 60
        }
      ]
    },
    {
      "cell_type": "code",
      "source": [
        "# plot untuk mengilustrasikan perbedaan actual dan predictons\n",
        "pyplot.figure(figsize=(12,7))\n",
        "pyplot.plot(test.index, test, label = 'actual')\n",
        "pyplot.plot(test.index, predictions_arima, label = 'predicted')\n",
        "pyplot.title('Forcasting - Arima')\n",
        "pyplot.legend()"
      ],
      "metadata": {
        "colab": {
          "base_uri": "https://localhost:8080/",
          "height": 461
        },
        "id": "pJnRCWjJu6aO",
        "outputId": "cdba8ec1-b608-404e-c2f0-b2d4e1dfc2d9"
      },
      "execution_count": 63,
      "outputs": [
        {
          "output_type": "execute_result",
          "data": {
            "text/plain": [
              "<matplotlib.legend.Legend at 0x7f2db80eb690>"
            ]
          },
          "metadata": {},
          "execution_count": 63
        },
        {
          "output_type": "display_data",
          "data": {
            "text/plain": [
              "<Figure size 864x504 with 1 Axes>"
            ],
            "image/png": "[encoded data removed]"
          },
          "metadata": {
            "needs_background": "light"
          }
        }
      ]
    },
    {
      "cell_type": "markdown",
      "source": [
        "Dari grafik diatas kita bisa ketahui bahwa hasil prediksi bagus karena semakin lama semakin dekat selisih antara nilai actaul dan predicted, permasalahnya pada awal bekerja hasil nilai predicted memiliki selisih yang sangat jauh dengan nilai actual. kesimpulanya metode automodel arima ini cukup bagus digunakan karena semakin lama selisih antara nilai actual dengan predicted semakin kecil."
      ],
      "metadata": {
        "id": "deyRavimwZ_j"
      }
    },
    {
      "cell_type": "code",
      "source": [
        "predictions_arima.head()"
      ],
      "metadata": {
        "colab": {
          "base_uri": "https://localhost:8080/"
        },
        "id": "9esniijV1dh7",
        "outputId": "de1ea24b-81b8-4b4a-b20d-702260148975"
      },
      "execution_count": 71,
      "outputs": [
        {
          "output_type": "execute_result",
          "data": {
            "text/plain": [
              "34776    3.726440\n",
              "34777    3.726423\n",
              "34778    3.726405\n",
              "34779    3.726387\n",
              "34780    3.726369\n",
              "dtype: float64"
            ]
          },
          "metadata": {},
          "execution_count": 71
        }
      ]
    },
    {
      "cell_type": "code",
      "source": [
        "predictions_arima.tail()"
      ],
      "metadata": {
        "colab": {
          "base_uri": "https://localhost:8080/"
        },
        "id": "JsZvY86Z1wDD",
        "outputId": "5e3b4cac-0f74-4a37-9bfc-74ebe4b1974c"
      },
      "execution_count": 68,
      "outputs": [
        {
          "output_type": "execute_result",
          "data": {
            "text/plain": [
              "43465    3.571619\n",
              "43466    3.571601\n",
              "43467    3.571583\n",
              "43468    3.571566\n",
              "43469    3.571548\n",
              "dtype: float64"
            ]
          },
          "metadata": {},
          "execution_count": 68
        }
      ]
    },
    {
      "cell_type": "markdown",
      "source": [
        "# **EValuate**"
      ],
      "metadata": {
        "id": "iCcdd1qwv-ds"
      }
    },
    {
      "cell_type": "code",
      "source": [
        "from math import sqrt"
      ],
      "metadata": {
        "id": "A6vG5iUxy4kT"
      },
      "execution_count": 65,
      "outputs": []
    },
    {
      "cell_type": "code",
      "source": [
        "# Evaluate forecasts\n",
        "\n",
        "rmse = sqrt(mean_squared_error(test, predictions_arima))\n",
        "print('TEST RMSE: %.3f' % rmse)"
      ],
      "metadata": {
        "colab": {
          "base_uri": "https://localhost:8080/"
        },
        "id": "uuO0NIfPwRW6",
        "outputId": "30d54306-6962-473f-f7ab-ad3b50bc4f52"
      },
      "execution_count": 66,
      "outputs": [
        {
          "output_type": "stream",
          "name": "stdout",
          "text": [
            "TEST RMSE: 0.019\n"
          ]
        }
      ]
    },
    {
      "cell_type": "markdown",
      "source": [
        "Hasil evalusai rmse menujukan bahwa forcanting yang sudah dilakukan ini mempunyai tingkat akurasi baguss dibuktikan dengan rmse 0,019 karena apbila hasil menunjukan nilai rmse besar forcasting tersebut mempunyai tingkat akurat yang rendah"
      ],
      "metadata": {
        "id": "0IONdMYYzLpq"
      }
    }
  ]
}